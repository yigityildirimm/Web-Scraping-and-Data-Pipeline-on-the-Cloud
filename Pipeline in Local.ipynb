{
 "cells": [
  {
   "cell_type": "code",
   "execution_count": null,
   "id": "cfac7ac1-195e-4741-945d-d1ca6f14452a",
   "metadata": {
    "id": "cfac7ac1-195e-4741-945d-d1ca6f14452a",
    "tags": []
   },
   "outputs": [],
   "source": [
    "#importing Libraries\n",
    "import pandas as pd\n",
    "import requests\n",
    "from IPython.display import JSON\n",
    "import json\n",
    "!pip install pymysql\n",
    "import pandas as pd\n",
    "import sqlalchemy\n",
    "import requests\n",
    "from datetime import datetime, date, timedelta\n",
    "from pytz import timezone\n",
    "import re"
   ]
  },
  {
   "cell_type": "code",
   "execution_count": null,
   "id": "sOjC6TasJ0-U",
   "metadata": {
    "colab": {
     "base_uri": "https://localhost:8080/",
     "height": 73
    },
    "id": "sOjC6TasJ0-U",
    "outputId": "98e2d386-af14-4fec-f8cc-1c9653597645",
    "tags": []
   },
   "outputs": [],
   "source": [
    "#Reading demographical data that before collected with Web Scraping.\n",
    "cities_df = pd.read_csv('citiess.csv')\n",
    "cities_df"
   ]
  },
  {
   "cell_type": "code",
   "execution_count": null,
   "id": "69bc2b72-cb53-4713-b515-3c613e855ecf",
   "metadata": {
    "tags": []
   },
   "outputs": [],
   "source": [
    "#Exclude unneccessary column.\n",
    "cities_df=cities_df.drop([\"Unnamed: 0\"], axis=1)"
   ]
  },
  {
   "cell_type": "code",
   "execution_count": null,
   "id": "P3fEuwTsHQGL",
   "metadata": {
    "colab": {
     "base_uri": "https://localhost:8080/",
     "height": 143
    },
    "id": "P3fEuwTsHQGL",
    "outputId": "5591b7fa-e569-40fd-a96c-78b3d3a24065",
    "tags": []
   },
   "outputs": [],
   "source": [
    "#Check dataframe\n",
    "cities_df"
   ]
  },
  {
   "cell_type": "code",
   "execution_count": null,
   "id": "07074831-13bd-4a6a-b2b1-9015c0b8f626",
   "metadata": {
    "colab": {
     "base_uri": "https://localhost:8080/"
    },
    "id": "07074831-13bd-4a6a-b2b1-9015c0b8f626",
    "outputId": "b5f54aa6-f3dc-44bf-ebf3-3033b80afd98",
    "tags": []
   },
   "outputs": [],
   "source": [
    "#Check data types of dataframe.\n",
    "cities_df.info()"
   ]
  },
  {
   "cell_type": "code",
   "execution_count": 1,
   "id": "624dbb6f-4830-4666-a59c-c6a300e7abe3",
   "metadata": {
    "tags": []
   },
   "outputs": [],
   "source": [
    "#importing SQL key from another file.\n",
    "from Keys import sql_key as password"
   ]
  },
  {
   "cell_type": "code",
   "execution_count": null,
   "id": "6c512232-2400-49bd-8bc7-d49e5b85b0b7",
   "metadata": {
    "tags": []
   },
   "outputs": [],
   "source": [
    "#All neccessary informations for connection of database.\n",
    "host = 'Your Host Adress Here'\n",
    "schema = 'Your schema name here' \n",
    "user = 'Your user name here'\n",
    "port = 'Your port number here'\n",
    "con = f'mysql+pymysql://{user}:{password}@{host}:{port}/{schema}'"
   ]
  },
  {
   "cell_type": "code",
   "execution_count": null,
   "id": "8197a103-7f21-4814-8d71-4b49b6b2ee4a",
   "metadata": {
    "tags": []
   },
   "outputs": [],
   "source": [
    "#Push data to database\n",
    "cities_df.to_sql('cities',con=con,if_exists='append',index=False)"
   ]
  },
  {
   "cell_type": "code",
   "execution_count": null,
   "id": "3efe7a82-2a69-4ed7-8a91-422720333137",
   "metadata": {
    "tags": []
   },
   "outputs": [],
   "source": [
    "#Read data from SQL for check\n",
    "cities_df = pd.read_sql('cities',con=con)\n",
    "cities_df"
   ]
  },
  {
   "cell_type": "markdown",
   "id": "689bc80b-28b4-4262-a3b5-45b4a8f5242d",
   "metadata": {
    "tags": []
   },
   "source": [
    "# Airports"
   ]
  },
  {
   "cell_type": "code",
   "execution_count": null,
   "id": "5216ce7e-c093-4ce9-b21d-f7afb604c181",
   "metadata": {
    "tags": []
   },
   "outputs": [],
   "source": [
    "list_for_df_airports = []\n",
    "\n",
    "for i, city in enumerate(cities_df['city_id']):\n",
    "    url = \"https://aerodatabox.p.rapidapi.com/airports/search/location\"\n",
    "\n",
    "    querystring = {\"lat\":cities_df.iloc[i][\"latitude\"],\"lon\":cities_df.iloc[i]['longitude'],\"radiusKm\":\"100\",\"limit\":\"10\",\"withFlightInfoOnly\":\"true\"}\n",
    "\n",
    "    headers = {\n",
    "        \"X-RapidAPI-Key\": \"Your key here\",\n",
    "        \"X-RapidAPI-Host\": \"Your host here\"\n",
    "    }\n",
    "\n",
    "    response = requests.request(\"GET\", url, headers=headers, params=querystring)\n",
    "    \n",
    "    list_for_df_airports.append(response.json()['items'])"
   ]
  },
  {
   "cell_type": "code",
   "execution_count": null,
   "id": "1aaf5592-ae0e-4e4d-a009-3a1ea15d6cba",
   "metadata": {
    "tags": []
   },
   "outputs": [],
   "source": [
    "list_for_df_airports"
   ]
  },
  {
   "cell_type": "code",
   "execution_count": null,
   "id": "6e31a4b6-375d-4e6e-b497-1bac60f993a7",
   "metadata": {
    "tags": []
   },
   "outputs": [],
   "source": [
    "airports_dict = {\n",
    "                'icao':[],\n",
    "                'city_name':[]}\n",
    "\n",
    "\n",
    "for i in range(len(list_for_df_airports)):\n",
    "    for j in range(len(list_for_df_airports[i])):\n",
    "            airports_dict['icao'].append(list_for_df_airports[i][j]['icao'])\n",
    "            airports_dict['city_name'].append(list_for_df_airports[i][j]['municipalityName'])"
   ]
  },
  {
   "cell_type": "code",
   "execution_count": null,
   "id": "6b78293b-849f-4358-9613-0440d1c62997",
   "metadata": {
    "tags": []
   },
   "outputs": [],
   "source": [
    "airports_df = pd.DataFrame(airports_dict)"
   ]
  },
  {
   "cell_type": "code",
   "execution_count": null,
   "id": "e43a9f3b-4eed-4c4c-8939-0af2b55cee51",
   "metadata": {
    "tags": []
   },
   "outputs": [],
   "source": [
    "airports_df"
   ]
  },
  {
   "cell_type": "code",
   "execution_count": null,
   "id": "688b99dd-c8a7-4641-871b-29ead4218b4a",
   "metadata": {
    "tags": []
   },
   "outputs": [],
   "source": [
    "airports_df = airports_df.merge(cities_df, how='inner', left_on='city_name', right_on='city')[[\"icao\", \"city_id\"]]"
   ]
  },
  {
   "cell_type": "code",
   "execution_count": null,
   "id": "c6680b7c-8b35-4fd2-a2ae-8612951a35b9",
   "metadata": {
    "tags": []
   },
   "outputs": [],
   "source": [
    "airports_df"
   ]
  },
  {
   "cell_type": "code",
   "execution_count": null,
   "id": "4bd6f282-b3ed-41d6-a943-e2aea3c378ef",
   "metadata": {
    "tags": []
   },
   "outputs": [],
   "source": [
    "airports_df.info()"
   ]
  },
  {
   "cell_type": "code",
   "execution_count": null,
   "id": "66ea14d2-2163-406f-be80-93245fdaa27e",
   "metadata": {
    "tags": []
   },
   "outputs": [],
   "source": [
    "airports_df.to_sql('airports',con=con,if_exists='append',index=False)"
   ]
  },
  {
   "cell_type": "code",
   "execution_count": null,
   "id": "4a4cc4bb-ffef-460b-bf70-17f959d664f5",
   "metadata": {
    "tags": []
   },
   "outputs": [],
   "source": [
    "airports_check = pd.read_sql('airports',con=con)\n",
    "airports_check"
   ]
  },
  {
   "cell_type": "markdown",
   "id": "d739cbd2-ab7b-4c68-9223-54b91bc40ad2",
   "metadata": {},
   "source": [
    "## Weather"
   ]
  },
  {
   "cell_type": "code",
   "execution_count": null,
   "id": "31eca708-eaf2-417f-b342-c2f6bf6438ca",
   "metadata": {
    "tags": []
   },
   "outputs": [],
   "source": [
    "cities_df = pd.read_sql('cities',con=con)\n",
    "cities_df"
   ]
  },
  {
   "cell_type": "code",
   "execution_count": null,
   "id": "84449a5a-c981-4c85-9132-216bdfb90779",
   "metadata": {
    "tags": []
   },
   "outputs": [],
   "source": [
    "from Keys import OW_API_key as key"
   ]
  },
  {
   "cell_type": "code",
   "execution_count": null,
   "id": "16f9e15b-763b-4a0b-9fe7-2f7322a09b5f",
   "metadata": {
    "tags": []
   },
   "outputs": [],
   "source": [
    "weather_dict = {'city_id':[],\n",
    "                'time':[],\n",
    "                'temp':[],\n",
    "                'outlook':[],\n",
    "                'wind_speed':[],\n",
    "                }\n",
    "\n",
    "for i, city in enumerate(cities_df['city_id']):\n",
    "    url = f\"http://api.openweathermap.org/data/2.5/forecast?q={cities_df.iloc[i]['city']}&appid={key}&units=metric\"\n",
    "    response = requests.get(url)\n",
    "    weather_json = response.json()\n",
    "\n",
    "    for time in weather_json['list']:\n",
    "        weather_dict['city_id'].append(city)\n",
    "        weather_dict['time'].append(time['dt_txt'])\n",
    "        weather_dict['temp'].append(time['main']['temp'])\n",
    "        weather_dict['outlook'].append(time['weather'][0]['main'])\n",
    "        weather_dict['wind_speed'].append(time['wind']['speed'])\n",
    "      "
   ]
  },
  {
   "cell_type": "code",
   "execution_count": null,
   "id": "183f6332-85b6-401c-bb31-7c032cc18a33",
   "metadata": {
    "tags": []
   },
   "outputs": [],
   "source": [
    "weather_df = pd.DataFrame(weather_dict)\n",
    "\n",
    "weather_df"
   ]
  },
  {
   "cell_type": "code",
   "execution_count": null,
   "id": "667ea0c3-0999-434d-9931-4c7c20814710",
   "metadata": {
    "tags": []
   },
   "outputs": [],
   "source": [
    "JSON(weather_json)"
   ]
  },
  {
   "cell_type": "code",
   "execution_count": null,
   "id": "0bc8c879-908f-4064-910d-cdc1342b6e91",
   "metadata": {
    "tags": []
   },
   "outputs": [],
   "source": [
    "weather_df['time'] = pd.to_datetime(weather_df['time'])"
   ]
  },
  {
   "cell_type": "code",
   "execution_count": null,
   "id": "3f27e8e6-f134-4fa9-ae88-c5ea9e4d9880",
   "metadata": {
    "tags": []
   },
   "outputs": [],
   "source": [
    "weather_df.info()"
   ]
  },
  {
   "cell_type": "code",
   "execution_count": null,
   "id": "5e727382-b632-44a6-a11d-21983307a38f",
   "metadata": {
    "tags": []
   },
   "outputs": [],
   "source": [
    "weather_df.to_sql('weather',con=con,if_exists='append',index=False)"
   ]
  },
  {
   "cell_type": "code",
   "execution_count": null,
   "id": "6a46e9a5-4f46-4d90-ac8a-a4565657e939",
   "metadata": {
    "tags": []
   },
   "outputs": [],
   "source": [
    "weather_check = pd.read_sql('weather',con=con)\n",
    "weather_check"
   ]
  },
  {
   "cell_type": "markdown",
   "id": "48c1fa9e-fd9c-4842-be6e-8f8b2dee6ee9",
   "metadata": {},
   "source": [
    "## Flights"
   ]
  },
  {
   "cell_type": "code",
   "execution_count": null,
   "id": "15c72914-d972-4e34-99a2-9fc974448f76",
   "metadata": {
    "tags": []
   },
   "outputs": [],
   "source": [
    "from Keys import headers_flights as headers_flight"
   ]
  },
  {
   "cell_type": "code",
   "execution_count": null,
   "id": "1c6e45d3-e829-4052-98fe-e4392d009881",
   "metadata": {
    "tags": []
   },
   "outputs": [],
   "source": [
    "querystring = {\"withLeg\":\"false\",\"direction\":\"Arrival\",\"withCancelled\":\"false\",\"withCodeshared\":\"false\",\"withCargo\":\"false\",\"withPrivate\":\"false\",\"withLocation\":\"true\"}\n",
    "\n",
    "headers_flights = {\n",
    "\t\"X-RapidAPI-Key\": \"Your key here\",\n",
    "\t\"X-RapidAPI-Host\": \"Your host here\"\n",
    "}\n"
   ]
  },
  {
   "cell_type": "code",
   "execution_count": null,
   "id": "65b95a09-9b28-412c-973f-0e325c0a702a",
   "metadata": {
    "tags": []
   },
   "outputs": [],
   "source": [
    "today = datetime.now().astimezone(timezone('Europe/Istanbul')).date()\n",
    "tomorrow = (today + timedelta(days=1))    "
   ]
  },
  {
   "cell_type": "code",
   "execution_count": null,
   "id": "c155ae12-ced8-442c-a5b1-1648d1a91b6b",
   "metadata": {
    "tags": []
   },
   "outputs": [],
   "source": [
    "tomorrow"
   ]
  },
  {
   "cell_type": "code",
   "execution_count": null,
   "id": "bd6c965d-cf04-4b17-80b7-84bf5274886d",
   "metadata": {
    "tags": []
   },
   "outputs": [],
   "source": [
    "today"
   ]
  },
  {
   "cell_type": "code",
   "execution_count": null,
   "id": "001e6eb0-b78c-41ef-bff4-bbb223c9b1b9",
   "metadata": {
    "tags": []
   },
   "outputs": [],
   "source": [
    "times = [[\"00:00\",\"11:59\"],[\"12:00\",\"23:59\"]]"
   ]
  },
  {
   "cell_type": "code",
   "execution_count": null,
   "id": "f7ba2b22-78fd-4355-8802-e947a67fbf42",
   "metadata": {
    "tags": []
   },
   "outputs": [],
   "source": [
    "icao_list = airports_df['icao'].to_list()"
   ]
  },
  {
   "cell_type": "code",
   "execution_count": null,
   "id": "d97b4497-710d-4a32-b451-620a770dff95",
   "metadata": {
    "tags": []
   },
   "outputs": [],
   "source": [
    "icao_list"
   ]
  },
  {
   "cell_type": "code",
   "execution_count": null,
   "id": "06ea3069-7eea-4744-b636-7e3a79f7ac20",
   "metadata": {
    "tags": []
   },
   "outputs": [],
   "source": [
    "flights_dict = {'ICAO':[],\n",
    "                'departure_airport':[],\n",
    "                'local_time':[]}\n",
    "\n",
    "for time in times:\n",
    "    \n",
    "    for icao in icao_list[0:]:\n",
    "        url = f\"https://aerodatabox.p.rapidapi.com/flights/airports/icao/{icao}/{tomorrow}T{time[0]}/{tomorrow}T{time[1]}\"\n",
    "        response = requests.request(\"GET\", url, headers=headers, params=querystring)\n",
    "        print(response)\n",
    "        flight_json = response.json()\n",
    "        \n",
    "        for flight in flight_json['arrivals']:\n",
    "            flights_dict['ICAO'].append(icao)\n",
    "            try:\n",
    "                flights_dict['departure_airport'].append(flight['movement']['airport']['icao'])\n",
    "            except:\n",
    "                flights_dict['departure_airport'].append('unknown')\n",
    "            try:\n",
    "                flights_dict['local_time'].append(flight['movement']['scheduledTime'][\"local\"])\n",
    "            except:\n",
    "                flights_dict['local_time'].append(pd.NaT)"
   ]
  },
  {
   "cell_type": "code",
   "execution_count": null,
   "id": "33debea8-e178-4e82-9990-e602577ff989",
   "metadata": {
    "tags": []
   },
   "outputs": [],
   "source": [
    "flights_df = pd.DataFrame(flights_dict)"
   ]
  },
  {
   "cell_type": "code",
   "execution_count": null,
   "id": "f2efe714-535f-4633-9dae-292a123e55df",
   "metadata": {
    "tags": []
   },
   "outputs": [],
   "source": [
    "flights_df"
   ]
  },
  {
   "cell_type": "code",
   "execution_count": null,
   "id": "b219974d-cbae-41bb-9471-5c2b391066f9",
   "metadata": {},
   "outputs": [],
   "source": [
    "flights_df['local_time'] = pd.to_datetime(flights_df['local_time'])"
   ]
  },
  {
   "cell_type": "code",
   "execution_count": null,
   "id": "26e3c367-629d-49b8-9083-17a416243619",
   "metadata": {
    "tags": []
   },
   "outputs": [],
   "source": [
    "flights_df.info()"
   ]
  },
  {
   "cell_type": "code",
   "execution_count": null,
   "id": "d0e37633-4e5e-4777-98ae-bf0aab64fed9",
   "metadata": {
    "tags": []
   },
   "outputs": [],
   "source": [
    "flights_df.to_sql('flights',con=con,if_exists='append',index=False)"
   ]
  },
  {
   "cell_type": "code",
   "execution_count": null,
   "id": "2928fd13-c3f9-4e6e-8e9a-7815a94ed413",
   "metadata": {
    "tags": []
   },
   "outputs": [],
   "source": [
    "flights_check = pd.read_sql('flights',con=con)\n",
    "flights_check"
   ]
  }
 ],
 "metadata": {
  "colab": {
   "provenance": []
  },
  "kernelspec": {
   "display_name": "Python 3 (ipykernel)",
   "language": "python",
   "name": "python3"
  },
  "language_info": {
   "codemirror_mode": {
    "name": "ipython",
    "version": 3
   },
   "file_extension": ".py",
   "mimetype": "text/x-python",
   "name": "python",
   "nbconvert_exporter": "python",
   "pygments_lexer": "ipython3",
   "version": "3.11.4"
  }
 },
 "nbformat": 4,
 "nbformat_minor": 5
}
